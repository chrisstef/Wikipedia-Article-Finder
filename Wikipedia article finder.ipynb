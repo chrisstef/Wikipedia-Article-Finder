{
 "cells": [
  {
   "cell_type": "markdown",
   "metadata": {},
   "source": [
    "# Wikipedia article finder\n",
    "\n",
    "- In this notebook, we're gonna build an article finder based on user given input (title, language).\n",
    "\n",
    "\n",
    "- Easy to follow up, with explanations in every step, we will request a thumbnail and the coordinates of our subject (if they exist).\n",
    "\n",
    "\n",
    "- Finally, we will extract the 3 most relevant articles from Wikipedia as well as their links! "
   ]
  },
  {
   "cell_type": "code",
   "execution_count": 1,
   "metadata": {},
   "outputs": [],
   "source": [
    "# importing relevant libraries.\n",
    "import requests\n",
    "import json\n",
    "\n",
    "from IPython.display import display, Image\n",
    "from IPython.display import display, HTML"
   ]
  },
  {
   "cell_type": "code",
   "execution_count": 2,
   "metadata": {},
   "outputs": [
    {
     "name": "stdout",
     "output_type": "stream",
     "text": [
      "What article would you like to read?   Andalucia\n"
     ]
    }
   ],
   "source": [
    "# Ask user preference about the interested article.\n",
    "article = input(\"What article would you like to read?   \").strip().replace(\" \", \"_\")"
   ]
  },
  {
   "cell_type": "code",
   "execution_count": 3,
   "metadata": {},
   "outputs": [
    {
     "name": "stdout",
     "output_type": "stream",
     "text": [
      "Which language do you prefer? en/nl/es/   en\n"
     ]
    }
   ],
   "source": [
    "# Ask user about language preferance.\n",
    "language = input(\"Which language do you prefer? en/nl/es/   \").strip().lower() # feel free to add more languages here <---"
   ]
  },
  {
   "cell_type": "code",
   "execution_count": 4,
   "metadata": {},
   "outputs": [
    {
     "name": "stdout",
     "output_type": "stream",
     "text": [
      "Article : Andalucia, in the following language: en.\n"
     ]
    }
   ],
   "source": [
    "print(f\"Article : {article}, in the following language: {language}.\")"
   ]
  },
  {
   "cell_type": "code",
   "execution_count": 5,
   "metadata": {},
   "outputs": [],
   "source": [
    "# API call and getting the data into a python dict with the data variable.\n",
    "url = f\"https://{language}.wikipedia.org/api/rest_v1/page/summary/{article}\"\n",
    "req = requests.get(url)\n",
    "data = json.loads(req.text)"
   ]
  },
  {
   "cell_type": "code",
   "execution_count": 6,
   "metadata": {},
   "outputs": [
    {
     "name": "stdout",
     "output_type": "stream",
     "text": [
      "The website is online!\n"
     ]
    }
   ],
   "source": [
    "# Status!\n",
    "if req.status_code == 200:\n",
    "    print(f\"The website is online!\")\n",
    "    \n",
    "else:\n",
    "    print(f\"Error! We're receiving an error {req.status_code}\")"
   ]
  },
  {
   "cell_type": "code",
   "execution_count": 7,
   "metadata": {},
   "outputs": [
    {
     "name": "stdout",
     "output_type": "stream",
     "text": [
      "Title: Andalusia. Description: Autonomous community of Spain.\n"
     ]
    }
   ],
   "source": [
    "# Getting title and description..\n",
    "title = data['title']\n",
    "desc = data['description']\n",
    "print(f\"Title: {title}. Description: {desc}.\")"
   ]
  },
  {
   "cell_type": "code",
   "execution_count": 8,
   "metadata": {},
   "outputs": [
    {
     "name": "stdout",
     "output_type": "stream",
     "text": [
      "Thumbnail found:\n"
     ]
    },
    {
     "data": {
      "text/html": [
       "<img src=\"https://upload.wikimedia.org/wikipedia/commons/thumb/2/20/Flag_of_Andaluc%C3%ADa.svg/320px-Flag_of_Andaluc%C3%ADa.svg.png\"/>"
      ],
      "text/plain": [
       "<IPython.core.display.Image object>"
      ]
     },
     "metadata": {},
     "output_type": "display_data"
    }
   ],
   "source": [
    "# Checking for Thumbnail.\n",
    "if \"thumbnail\" in data:\n",
    "    thumb = data[\"thumbnail\"][\"source\"]\n",
    "    print(\"Thumbnail found:\")\n",
    "    img = Image(url = thumb)\n",
    "    display(img)\n",
    "else:\n",
    "    print(\"No thumbnail found.\")"
   ]
  },
  {
   "cell_type": "code",
   "execution_count": 9,
   "metadata": {},
   "outputs": [
    {
     "name": "stdout",
     "output_type": "stream",
     "text": [
      "Click on the following link to view the Google Maps page for Andalucia.\n"
     ]
    },
    {
     "data": {
      "text/html": [
       "<a href = \"https://www.google.com/maps/?q=37.38333333,-5.98333333\">Click here for Google Maps</a>"
      ],
      "text/plain": [
       "<IPython.core.display.HTML object>"
      ]
     },
     "metadata": {},
     "output_type": "display_data"
    }
   ],
   "source": [
    "# Checking if the data exists..\n",
    "if \"coordinates\" in data:\n",
    "    latitude = data[\"coordinates\"][\"lat\"]\n",
    "    longitude = data[\"coordinates\"][\"lon\"]\n",
    "    \n",
    "#Now I will an HTML code snipet to make a clickable link.\n",
    "    click = f\"\"\"<a href = \"https://www.google.com/maps/?q={latitude},{longitude}\">Click here for Google Maps</a>\"\"\"\n",
    "    html = HTML(click)\n",
    "    print(f\"Click on the following link to view the Google Maps page for {article}.\")\n",
    "    display(html)\n",
    "else:\n",
    "    print(\"No coordinates found.\")"
   ]
  },
  {
   "cell_type": "code",
   "execution_count": 10,
   "metadata": {},
   "outputs": [
    {
     "name": "stdout",
     "output_type": "stream",
     "text": [
      "The website is online!\n"
     ]
    }
   ],
   "source": [
    "# API call for related articles!\n",
    "url1 = f\"https://{language}.wikipedia.org/api/rest_v1/page/related/{article}\"\n",
    "request = requests.get(url1)\n",
    "reldata = json.loads(request.text)\n",
    "\n",
    "# Status!\n",
    "if request.status_code == 200:\n",
    "    print(f\"The website is online!\")\n",
    "    \n",
    "else:\n",
    "    print(f\"Error! We're receiving an error {request.status_code}\")"
   ]
  },
  {
   "cell_type": "code",
   "execution_count": 11,
   "metadata": {},
   "outputs": [],
   "source": [
    "# Getting the related results.\n",
    "related = reldata[\"pages\"]\n",
    "rellist = []\n",
    "i=0\n",
    "for page in related:\n",
    "    rellist.append({\n",
    "        \"title\" : page.get('displaytitle'), \n",
    "        \"description\" : page.get('description'),\n",
    "        \"url\" : page.get('content_urls').get('desktop').get('page')\n",
    "        })\n",
    "    i+=1\n",
    "    if i ==3:\n",
    "        break"
   ]
  },
  {
   "cell_type": "code",
   "execution_count": 12,
   "metadata": {},
   "outputs": [
    {
     "name": "stdout",
     "output_type": "stream",
     "text": [
      "Article title: Province of Seville. Article description: Province of Spain. Url: https://en.wikipedia.org/wiki/Province_of_Seville\n",
      "Article title: Province of Cádiz. Article description: Province of Spain. Url: https://en.wikipedia.org/wiki/Province_of_C%C3%A1diz\n",
      "Article title: Andalusian Spanish. Article description: Regional Spanish dialect. Url: https://en.wikipedia.org/wiki/Andalusian_Spanish\n"
     ]
    }
   ],
   "source": [
    "# Printing our results. :) \n",
    "for result in rellist:\n",
    "    print('Article title: ' + result['title'] + \". Article description: \" + result['description'] + '. Url: ' + result['url'])"
   ]
  },
  {
   "cell_type": "markdown",
   "metadata": {},
   "source": [
    "# "
   ]
  }
 ],
 "metadata": {
  "kernelspec": {
   "display_name": "Python 3.7.7 64-bit ('py3-TF2.0': conda)",
   "language": "python",
   "name": "python37764bitpy3tf20condad9bcfa3e19984db2896453da65056c1f"
  },
  "language_info": {
   "codemirror_mode": {
    "name": "ipython",
    "version": 3
   },
   "file_extension": ".py",
   "mimetype": "text/x-python",
   "name": "python",
   "nbconvert_exporter": "python",
   "pygments_lexer": "ipython3",
   "version": "3.7.7"
  }
 },
 "nbformat": 4,
 "nbformat_minor": 4
}
